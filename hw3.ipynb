{
 "cells": [
  {
   "cell_type": "code",
   "execution_count": 1,
   "metadata": {},
   "outputs": [],
   "source": [
    "import numpy as np\n",
    "from numpy import linalg as la"
   ]
  },
  {
   "cell_type": "markdown",
   "metadata": {},
   "source": [
    "#### Задание 1:\n",
    "Найти собственные векторы и собственные значения для линейного оператора, заданного матрицей\n",
    "\n",
    "$A=\\begin{pmatrix}\n",
    "-1 & -6\\\\ \n",
    "2 & 6\n",
    "\\end{pmatrix}.$\n",
    "\n",
    "$det(A-I\\lambda) = \\begin{pmatrix}\n",
    "-1-\\lambda & -6\\\\ \n",
    "2 & 6-\\lambda\n",
    "\\end{pmatrix} = \\lambda^{2}-5\\lambda+6 = 0$\n",
    "\n",
    "$\\lambda_1 = 2$\n",
    "\n",
    "$\\lambda_2 = 3$"
   ]
  },
  {
   "cell_type": "markdown",
   "metadata": {},
   "source": [
    "$\\begin{pmatrix}\n",
    "-1 & -6\\\\ \n",
    "2 & 6\n",
    "\\end{pmatrix}\n",
    "\\begin{pmatrix}\n",
    "x_{1}\\\\ \n",
    "x_{2}\n",
    "\\end{pmatrix}=\n",
    "\\lambda\n",
    "\\begin{pmatrix}\n",
    "x_{1}\\\\ \n",
    "x_{2}\n",
    "\\end{pmatrix}\n",
    "$"
   ]
  },
  {
   "cell_type": "markdown",
   "metadata": {},
   "source": [
    "$\\lambda_1$:\n",
    "\n",
    "$\\begin{cases}\n",
    "-x_1-6x_2 = 2x_1, \\\\\n",
    "2x_1+6x_2 = 2x_2\n",
    "\\end{cases}$\n",
    "\n",
    "$X_1=\\begin{pmatrix}\n",
    "2\\\\ \n",
    "-1\n",
    "\\end{pmatrix}$"
   ]
  },
  {
   "cell_type": "markdown",
   "metadata": {},
   "source": [
    "$\\lambda_1$:\n",
    "\n",
    "$\\begin{cases}\n",
    "-x_1-6x_2 = 3x_1, \\\\\n",
    "2x_1+6x_2 = 3x_2\n",
    "\\end{cases}$\n",
    "\n",
    "$X_2=\\begin{pmatrix}\n",
    "-3/2\\\\ \n",
    "1\n",
    "\\end{pmatrix}$"
   ]
  },
  {
   "cell_type": "markdown",
   "metadata": {},
   "source": [
    "#### Задание 2:\n",
    "Дан оператор поворота на 180 градусов, задаваемый матрицей \n",
    "\n",
    "$A=\\begin{pmatrix}\n",
    "-1 & 0\\\\ \n",
    "0 & -1\n",
    "\\end{pmatrix}$\n",
    "\n",
    "Показать, что __любой__ вектор является для него собственным."
   ]
  },
  {
   "cell_type": "markdown",
   "metadata": {},
   "source": [
    "$\\overline{a}=\\begin{pmatrix}\n",
    "-1\\\\ \n",
    "1\n",
    "\\end{pmatrix}$\n",
    "\n",
    "$A*\\overline{a} = \\lambda*\\overline{a}$"
   ]
  },
  {
   "cell_type": "markdown",
   "metadata": {},
   "source": [
    "$\\begin{cases}\n",
    "1 = -\\lambda, \\\\\n",
    "-1 = \\lambda\n",
    "\\end{cases}$\n",
    "\n",
    "$\\lambda=1$"
   ]
  },
  {
   "cell_type": "markdown",
   "metadata": {},
   "source": [
    "#### Задание 3:\n",
    "Пусть линейный оператор задан матрицей\n",
    "\n",
    "$A=\\begin{pmatrix}\n",
    "1 & 1\\\\ \n",
    "-1 & 3\n",
    "\\end{pmatrix}.$\n",
    "\n",
    "Установить, является ли вектор $x=(1,1)$ собственным вектором этого линейного оператора."
   ]
  },
  {
   "cell_type": "markdown",
   "metadata": {},
   "source": [
    "Это будет справедливо, если вектор $Ax$ будет коллинеарен $x$"
   ]
  },
  {
   "cell_type": "markdown",
   "metadata": {},
   "source": [
    "$\\begin{pmatrix}\n",
    "1 & 1\\\\ \n",
    "-1 & 3\n",
    "\\end{pmatrix}\n",
    "\\cdot\n",
    "\\begin{pmatrix}\n",
    "1\\\\ \n",
    "1\n",
    "\\end{pmatrix}\n",
    " = 2\\cdot\\begin{pmatrix}\n",
    "1\\\\ \n",
    "-1\n",
    "\\end{pmatrix}$"
   ]
  },
  {
   "cell_type": "markdown",
   "metadata": {},
   "source": [
    "Полученный вектор ортогонален вектору $x$, т.о. вектор $x$ не является собственным вектором оператора $A$"
   ]
  },
  {
   "cell_type": "markdown",
   "metadata": {},
   "source": [
    "#### Задание 4:\n",
    "\n",
    "Пусть линейный оператор задан матрицей\n",
    "\n",
    "$A=\\begin{pmatrix}\n",
    "0 & 3 & 0\\\\ \n",
    "3 & 0 & 0\\\\\n",
    "0 & 0 & 3\n",
    "\\end{pmatrix}$\n",
    "\n",
    "Установить, является ли вектор $x=(3, -3, -4)$ собственным вектором этого линейного оператора."
   ]
  },
  {
   "cell_type": "markdown",
   "metadata": {},
   "source": [
    "Для данного оператора собственным вектором будет (1, 1, 1), т.к. он \"поменяет\" местами первую и вторую компоненту вектора, на который действует. И т.к. $x$ имеет отличные 1 и 2 компоненты - он повернется."
   ]
  },
  {
   "cell_type": "markdown",
   "metadata": {},
   "source": [
    "$\\begin{pmatrix}\n",
    "0 & 3 & 0\\\\ \n",
    "3 & 0 & 0\\\\\n",
    "0 & 0 & 3\n",
    "\\end{pmatrix}\\cdot\n",
    "\\begin{pmatrix}\n",
    "3\\\\ \n",
    "-3\\\\\n",
    "-4\\end{pmatrix}\n",
    "= 3\\cdot\n",
    "\\begin{pmatrix}\n",
    "-3\\\\ \n",
    "3\\\\\n",
    "-4\\end{pmatrix}\n",
    "$"
   ]
  },
  {
   "cell_type": "code",
   "execution_count": 12,
   "metadata": {},
   "outputs": [
    {
     "data": {
      "text/plain": [
       "array([[ -9],\n",
       "       [  9],\n",
       "       [-12]])"
      ]
     },
     "execution_count": 12,
     "metadata": {},
     "output_type": "execute_result"
    }
   ],
   "source": [
    "np.dot([[0,3,0],[3,0,0],[0,0,3]], [[3], [-3], [-4]])"
   ]
  },
  {
   "cell_type": "code",
   "execution_count": null,
   "metadata": {},
   "outputs": [],
   "source": []
  }
 ],
 "metadata": {
  "kernelspec": {
   "display_name": "Python 3",
   "language": "python",
   "name": "python3"
  },
  "language_info": {
   "codemirror_mode": {
    "name": "ipython",
    "version": 3
   },
   "file_extension": ".py",
   "mimetype": "text/x-python",
   "name": "python",
   "nbconvert_exporter": "python",
   "pygments_lexer": "ipython3",
   "version": "3.6.8"
  }
 },
 "nbformat": 4,
 "nbformat_minor": 2
}
