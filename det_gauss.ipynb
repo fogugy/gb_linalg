{
 "cells": [
  {
   "cell_type": "code",
   "execution_count": 84,
   "metadata": {},
   "outputs": [],
   "source": [
    "import numpy as np\n",
    "from numpy import linalg as la\n",
    "from functools import reduce\n",
    "import operator"
   ]
  },
  {
   "cell_type": "code",
   "execution_count": 85,
   "metadata": {},
   "outputs": [
    {
     "data": {
      "text/plain": [
       "array([[10, -7,  0],\n",
       "       [-3,  6,  2],\n",
       "       [ 5, -1,  5]])"
      ]
     },
     "execution_count": 85,
     "metadata": {},
     "output_type": "execute_result"
    }
   ],
   "source": [
    "A = np.array([[10, -7, 0], [-3, 6, 2], [5, -1, 5]])\n",
    "A"
   ]
  },
  {
   "cell_type": "code",
   "execution_count": 86,
   "metadata": {},
   "outputs": [],
   "source": [
    "def lu_decompose(A): \n",
    "    n = A.shape[0]\n",
    "    l = np.zeros((n,n))\n",
    "    u = np.zeros((n,n))\n",
    "                  \n",
    "    for i in range(n): \n",
    "        # upper\n",
    "        for k in range(i, n):  \n",
    "            sum = 0; \n",
    "            for j in range(i): \n",
    "                sum += (l[i][j] * u[j][k]); \n",
    "            u[i][k] = A[i][k] - sum; \n",
    "  \n",
    "        # lower\n",
    "        for k in range(i, n): \n",
    "            if (i == k): \n",
    "                l[i][i] = 1;\n",
    "            else: \n",
    "                sum = 0; \n",
    "                for j in range(i): \n",
    "                    sum += (l[k][j] * u[j][i]); \n",
    "                l[k][i] = int((A[k][i] - sum)/u[i][i]);\n",
    "    return l, u"
   ]
  },
  {
   "cell_type": "code",
   "execution_count": 87,
   "metadata": {},
   "outputs": [],
   "source": [
    "def det_lu(A):\n",
    "    n = A.shape[0]\n",
    "    l,u = lu_decompose(A)\n",
    "    det = reduce(operator.mul, [l[i][j] for j in range(n) for i in range(n) if i == j], 1)\n",
    "    det *= reduce(operator.mul, [u[i][j] for j in range(n) for i in range(n) if i == j], 1)\n",
    "    return det"
   ]
  },
  {
   "cell_type": "code",
   "execution_count": 91,
   "metadata": {},
   "outputs": [],
   "source": [
    "l,u = lu_decompose(A)"
   ]
  },
  {
   "cell_type": "code",
   "execution_count": 94,
   "metadata": {
    "scrolled": false
   },
   "outputs": [
    {
     "data": {
      "text/plain": [
       "array([[10., -7.,  0.],\n",
       "       [ 0.,  6.,  2.],\n",
       "       [ 0.,  0.,  5.]])"
      ]
     },
     "execution_count": 94,
     "metadata": {},
     "output_type": "execute_result"
    }
   ],
   "source": [
    "u"
   ]
  },
  {
   "cell_type": "code",
   "execution_count": 90,
   "metadata": {
    "scrolled": true
   },
   "outputs": [
    {
     "data": {
      "text/plain": [
       "300.0"
      ]
     },
     "execution_count": 90,
     "metadata": {},
     "output_type": "execute_result"
    }
   ],
   "source": [
    "det_lu(A)"
   ]
  },
  {
   "cell_type": "code",
   "execution_count": 89,
   "metadata": {},
   "outputs": [
    {
     "data": {
      "text/plain": [
       "144.99999999999997"
      ]
     },
     "execution_count": 89,
     "metadata": {},
     "output_type": "execute_result"
    }
   ],
   "source": [
    "la.det(A)"
   ]
  },
  {
   "cell_type": "code",
   "execution_count": null,
   "metadata": {},
   "outputs": [],
   "source": []
  }
 ],
 "metadata": {
  "kernelspec": {
   "display_name": "Python 3",
   "language": "python",
   "name": "python3"
  },
  "language_info": {
   "codemirror_mode": {
    "name": "ipython",
    "version": 3
   },
   "file_extension": ".py",
   "mimetype": "text/x-python",
   "name": "python",
   "nbconvert_exporter": "python",
   "pygments_lexer": "ipython3",
   "version": "3.6.8"
  }
 },
 "nbformat": 4,
 "nbformat_minor": 2
}
