{
 "cells": [
  {
   "cell_type": "code",
   "execution_count": 1,
   "metadata": {},
   "outputs": [],
   "source": [
    "import numpy as np\n",
    "from math import sqrt\n",
    "from numpy import linalg as lg\n",
    "import itertools"
   ]
  },
  {
   "cell_type": "markdown",
   "metadata": {},
   "source": [
    "#### Задание 1:\n",
    "Найти скалярное произведение векторов"
   ]
  },
  {
   "cell_type": "code",
   "execution_count": 2,
   "metadata": {},
   "outputs": [
    {
     "name": "stdout",
     "output_type": "stream",
     "text": [
      "33\n",
      "-23\n"
     ]
    }
   ],
   "source": [
    "# а\n",
    "print(np.dot((0,-3,6), (-4,7,9)))\n",
    "# б\n",
    "print(np.dot((7,-4,0,1), (-3,1,11,2)))"
   ]
  },
  {
   "cell_type": "markdown",
   "metadata": {},
   "source": [
    "#### Задание 2:\n",
    "Найти нормы векторов (4,2,4) и (12,3,4) и угол между ними."
   ]
  },
  {
   "cell_type": "code",
   "execution_count": 3,
   "metadata": {},
   "outputs": [],
   "source": [
    "a = (4,2,4)\n",
    "b = (12,3,4)"
   ]
  },
  {
   "cell_type": "code",
   "execution_count": 4,
   "metadata": {},
   "outputs": [
    {
     "data": {
      "text/plain": [
       "(6.0, 13.0)"
      ]
     },
     "execution_count": 4,
     "metadata": {},
     "output_type": "execute_result"
    }
   ],
   "source": [
    "norm_a = lg.norm(a)\n",
    "norm_b = lg.norm(b)\n",
    "norm_a, norm_b"
   ]
  },
  {
   "cell_type": "code",
   "execution_count": 5,
   "metadata": {},
   "outputs": [
    {
     "data": {
      "text/plain": [
       "0.8974358974358975"
      ]
     },
     "execution_count": 5,
     "metadata": {},
     "output_type": "execute_result"
    }
   ],
   "source": [
    "angle = np.dot(a,b)/(norm_a*norm_b)\n",
    "angle"
   ]
  },
  {
   "cell_type": "markdown",
   "metadata": {},
   "source": [
    "#### Задание 3:\n",
    "Будет ли линейное пространство евклидовым, если за скалярное произведение принять:"
   ]
  },
  {
   "cell_type": "code",
   "execution_count": 6,
   "metadata": {},
   "outputs": [],
   "source": [
    "def approx_equal(a, b, error=10**(-8)):\n",
    "    return abs(a-b) <= error"
   ]
  },
  {
   "cell_type": "markdown",
   "metadata": {},
   "source": [
    "1) $(x,y)=(y,x);$<br>\n",
    "2) $(\\lambda x, y)=\\lambda(x, y);$<br>\n",
    "3) $(x_{1}+x_{2},y)=(x_{1},y)+(x_{2},y);$<br>\n",
    "4) $(x, x)\\geq0$, причем $(x,x)=0\\Leftrightarrow x=0.$"
   ]
  },
  {
   "cell_type": "code",
   "execution_count": 7,
   "metadata": {},
   "outputs": [],
   "source": [
    "def is_euklid(dot):\n",
    "    v1 = (1, 2)\n",
    "    v2 = (4, 5)\n",
    "    v3 = (6, 7)\n",
    "    zero = (0, 0)\n",
    "    \n",
    "    success = True\n",
    "    \n",
    "    if not approx_equal(dot(v1, v2), dot(v2, v1)):\n",
    "        print('Нарушена симметричность')\n",
    "        success = False\n",
    "    \n",
    "    if not approx_equal(dot(np.dot(5.5, v1), v2), 5.5*dot(v1, v2)):\n",
    "        print('Нарушена билинейность (константа)')\n",
    "        resuccess = False\n",
    "    \n",
    "    if not approx_equal(dot(tuple(map(sum, zip(v1, v2))), v3), dot(v1, v3)+dot(v2, v3)):\n",
    "        print('Нарушена билинейность (разбиение вектора)')\n",
    "        success = False\n",
    "    \n",
    "    if dot(v1, v1) < 0 or dot(zero, zero) != 0:\n",
    "        print('Нарушена положительная определённость')\n",
    "        success = False\n",
    "        \n",
    "    return success"
   ]
  },
  {
   "cell_type": "code",
   "execution_count": 8,
   "metadata": {},
   "outputs": [],
   "source": [
    "def dot_1(a, b):\n",
    "    return lg.norm(a)*lg.norm(b)\n",
    "\n",
    "def dot_2(a, b):\n",
    "    return 3*np.dot(a, b)"
   ]
  },
  {
   "cell_type": "code",
   "execution_count": 9,
   "metadata": {},
   "outputs": [
    {
     "name": "stdout",
     "output_type": "stream",
     "text": [
      "Нарушена билинейность (разбиение вектора)\n",
      "Пространство не эвклидово\n"
     ]
    }
   ],
   "source": [
    "# а) произведение длин векторов\n",
    "print(\"Пространство эвклидово\" if is_euklid(dot_1) else \"Пространство не эвклидово\")"
   ]
  },
  {
   "cell_type": "code",
   "execution_count": 10,
   "metadata": {},
   "outputs": [
    {
     "name": "stdout",
     "output_type": "stream",
     "text": [
      "Пространство эвклидово\n"
     ]
    }
   ],
   "source": [
    "# б) утроенное обычное скалярное произведение векторов\n",
    "print(\"Пространство эвклидово\" if is_euklid(dot_2) else \"Пространство не эвклидово\")"
   ]
  },
  {
   "cell_type": "markdown",
   "metadata": {},
   "source": [
    "#### Задание 4:\n",
    "Какие из нижеперечисленных векторов образуют ортонормированный базис в линейном пространстве R3:"
   ]
  },
  {
   "cell_type": "markdown",
   "metadata": {},
   "source": [
    "Базис векторного пространства – это упорядоченная совокупность линейно независимых векторов этого пространства, число которых равно размерности пространства."
   ]
  },
  {
   "cell_type": "code",
   "execution_count": 11,
   "metadata": {},
   "outputs": [],
   "source": [
    "def scal(a, b):\n",
    "    return np.dot(a,b)/(norm_a*norm_b)\n",
    "\n",
    "def is_basis(vectors):\n",
    "    pairs = list(itertools.combinations(vectors, 2))\n",
    "    \n",
    "    for e in vectors:\n",
    "        if not approx_equal(lg.norm(e), 1):\n",
    "            print(e, 'норма != 1', lg.norm(e))\n",
    "            return False\n",
    "        \n",
    "    for pair in pairs:\n",
    "        if scal(pair[0], pair[1]) != 0:\n",
    "            print(pair[0], pair[1], 'не ортогональны')\n",
    "            return False\n",
    "        \n",
    "    return True"
   ]
  },
  {
   "cell_type": "code",
   "execution_count": 12,
   "metadata": {},
   "outputs": [],
   "source": [
    "# a\n",
    "e1 = (1,0,0)\n",
    "e2 = (0,0,1)\n",
    "# хотя векторы е1 и е2 - ортонормированы, но их недостаточно для R3 пространства"
   ]
  },
  {
   "cell_type": "code",
   "execution_count": 13,
   "metadata": {},
   "outputs": [
    {
     "name": "stdout",
     "output_type": "stream",
     "text": [
      "Является базисом\n"
     ]
    }
   ],
   "source": [
    "# б\n",
    "e1 = (1/sqrt(2),-1/sqrt(2),0)\n",
    "e2 = (1/sqrt(2),1/sqrt(2),0)\n",
    "e3 = (0,0,1)\n",
    "\n",
    "print(\"Является базисом\" if is_basis((e1, e2, e3)) else \"Не является базисом\")"
   ]
  },
  {
   "cell_type": "code",
   "execution_count": 14,
   "metadata": {},
   "outputs": [
    {
     "name": "stdout",
     "output_type": "stream",
     "text": [
      "(0.5, -0.5, 0) норма != 1 0.7071067811865476\n",
      "Не является базисом\n"
     ]
    }
   ],
   "source": [
    "# в\n",
    "e1 = (1/2,-1/2,0)\n",
    "e2 = (0,1/2,1/2)\n",
    "e3 = (0,0,1)\n",
    "\n",
    "print(\"Является базисом\" if is_basis((e1, e2, e3)) else \"Не является базисом\")"
   ]
  },
  {
   "cell_type": "code",
   "execution_count": 15,
   "metadata": {
    "scrolled": true
   },
   "outputs": [
    {
     "name": "stdout",
     "output_type": "stream",
     "text": [
      "Является базисом\n"
     ]
    }
   ],
   "source": [
    "# г\n",
    "e1 = (1,0,0)\n",
    "e2 = (0,1,0)\n",
    "e3 = (0,0,1)\n",
    "\n",
    "print(\"Является базисом\" if is_basis((e1, e2, e3)) else \"Не является базисом\")"
   ]
  },
  {
   "cell_type": "code",
   "execution_count": null,
   "metadata": {},
   "outputs": [],
   "source": []
  }
 ],
 "metadata": {
  "kernelspec": {
   "display_name": "Python 3",
   "language": "python",
   "name": "python3"
  },
  "language_info": {
   "codemirror_mode": {
    "name": "ipython",
    "version": 3
   },
   "file_extension": ".py",
   "mimetype": "text/x-python",
   "name": "python",
   "nbconvert_exporter": "python",
   "pygments_lexer": "ipython3",
   "version": "3.6.8"
  }
 },
 "nbformat": 4,
 "nbformat_minor": 2
}
