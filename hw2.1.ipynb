{
 "cells": [
  {
   "cell_type": "code",
   "execution_count": 26,
   "metadata": {},
   "outputs": [],
   "source": [
    "import numpy as np"
   ]
  },
  {
   "cell_type": "markdown",
   "metadata": {},
   "source": [
    "##### TODO: сделать алгоритм ...чего-то. Уточнить в лекции"
   ]
  },
  {
   "cell_type": "markdown",
   "metadata": {},
   "source": [
    "#### Задание 1\n",
    "Установить, какие произведения матриц  AB  и  BA  определены, и найти размерности полученных матриц:"
   ]
  },
  {
   "cell_type": "code",
   "execution_count": 27,
   "metadata": {},
   "outputs": [],
   "source": [
    "def can_dot(A, B):\n",
    "    return (np.shape(A)[0], np.shape(B)[1]) if np.shape(A)[1] == np.shape(B)[0] else False"
   ]
  },
  {
   "cell_type": "code",
   "execution_count": 34,
   "metadata": {},
   "outputs": [
    {
     "name": "stdout",
     "output_type": "stream",
     "text": [
      "a False\n",
      "б (2, 3)\n",
      "в (8, 8)\n",
      "г (4, 4)\n"
     ]
    }
   ],
   "source": [
    "#a\n",
    "print('a', can_dot(np.ones([4, 2]), np.ones([4, 2])))\n",
    "#б\n",
    "print('б', can_dot(np.ones([2, 5]), np.ones([5, 3])))\n",
    "#в\n",
    "print('в', can_dot(np.ones([8, 3]), np.ones([3, 8])))\n",
    "#г\n",
    "print('г', can_dot(np.ones([4, 4]), np.ones([4, 4])))"
   ]
  },
  {
   "cell_type": "markdown",
   "metadata": {},
   "source": [
    "#### Задание 2\n",
    "Найти сумму и произведение матриц $A=\\begin{pmatrix}\n",
    "1 & -2\\\\ \n",
    "3 & 0\n",
    "\\end{pmatrix}$ и $B=\\begin{pmatrix}\n",
    "4 & -1\\\\ \n",
    "0 & 5\n",
    "\\end{pmatrix}.$"
   ]
  },
  {
   "cell_type": "code",
   "execution_count": 50,
   "metadata": {},
   "outputs": [],
   "source": [
    "def dot(A, B):\n",
    "    if not can_dot(A, B):\n",
    "        raise Exception(\"Cant multiply matrixes with shapes\", np.shape(A), np.shape(B))\n",
    "        \n",
    "    cols, count = np.shape(A)\n",
    "    rows = np.shape(B)[1]\n",
    "    C = np.zeros([cols, rows])\n",
    "    for i in range(cols):\n",
    "        for j in range(rows):\n",
    "            C[i][j] = sum([A[i][p]*B[p][j] for p in range(count)])\n",
    "    return C, (cols, rows)\n",
    "    "
   ]
  },
  {
   "cell_type": "code",
   "execution_count": 51,
   "metadata": {},
   "outputs": [],
   "source": [
    "def can_sum(A, B):\n",
    "    return np.shape(A) == np.shape(B)"
   ]
  },
  {
   "cell_type": "code",
   "execution_count": 57,
   "metadata": {},
   "outputs": [],
   "source": [
    "def m_sum(A, B):\n",
    "    if not can_sum(A, B):\n",
    "        raise Exception(\"Cant summirize matrixes with different shapes\", np.shape(A), np.shape(B))\n",
    "        \n",
    "    (rows, cols) = np.shape(A)\n",
    "    C = np.zeros([rows, cols])\n",
    "    for row in range(rows):\n",
    "        for col in range(cols):\n",
    "            C[row][col] = A[row][col] + B[row][col]\n",
    "    return C, (cols, rows)"
   ]
  },
  {
   "cell_type": "code",
   "execution_count": 61,
   "metadata": {},
   "outputs": [
    {
     "name": "stdout",
     "output_type": "stream",
     "text": [
      "SUM:\n",
      "[[ 5. -3.]\n",
      " [ 0.  8.]] (2, 2)\n",
      "[[ 5 -3]\n",
      " [ 0  8]]\n",
      "DOT:\n",
      "[[  4. -11.]\n",
      " [  0.  15.]] (2, 2)\n",
      "[[  4 -11]\n",
      " [  0  15]]\n"
     ]
    }
   ],
   "source": [
    "A = [[1, -2], [0, 3]]\n",
    "B = [[4, -1], [0, 5]]\n",
    "\n",
    "S, s_shape = m_sum(A, B)\n",
    "M, m_shape = dot(A, B)\n",
    "\n",
    "print('SUM:')\n",
    "print(S, s_shape)\n",
    "print(np.add(A, B))\n",
    "print('DOT:')\n",
    "print(M, m_shape)\n",
    "print(np.dot(A, B))"
   ]
  },
  {
   "cell_type": "markdown",
   "metadata": {},
   "source": [
    "#### Задание 3:\n",
    "Вычислить линейную комбинацию $3A-2B+4C$ для матриц $A=\\begin{pmatrix}\n",
    "1 & 7\\\\ \n",
    "3 & -6\n",
    "\\end{pmatrix}$, $B=\\begin{pmatrix}\n",
    "0 & 5\\\\ \n",
    "2 & -1\n",
    "\\end{pmatrix}$, $C=\\begin{pmatrix}\n",
    "2 & -4\\\\ \n",
    "1 & 1\n",
    "\\end{pmatrix}.$"
   ]
  },
  {
   "cell_type": "code",
   "execution_count": 66,
   "metadata": {},
   "outputs": [],
   "source": [
    "def dot_num(A, num):\n",
    "    (rows, cols) = np.shape(A)\n",
    "    return [[A[row][col]*num for col in range(cols)] for row in range(rows)]"
   ]
  },
  {
   "cell_type": "code",
   "execution_count": 84,
   "metadata": {},
   "outputs": [
    {
     "name": "stdout",
     "output_type": "stream",
     "text": [
      "[[ 11.  -5.]\n",
      " [  9. -12.]]\n",
      "[[ 11  -5]\n",
      " [  9 -12]]\n"
     ]
    }
   ],
   "source": [
    "A = [[1, 7], [3, -6]]\n",
    "B = [[0, 5], [2, -1]]\n",
    "C = [[2, -4], [1, 1]]\n",
    "\n",
    "S = m_sum(m_sum(dot_num(A, 3), dot_num(B, -2))[0], dot_num(C, 4))[0]\n",
    "print(S)\n",
    "print(np.array(A)*3 - np.array(B)*2 + np.array(C)*4)"
   ]
  },
  {
   "cell_type": "code",
   "execution_count": null,
   "metadata": {},
   "outputs": [],
   "source": []
  }
 ],
 "metadata": {
  "kernelspec": {
   "display_name": "Python 3",
   "language": "python",
   "name": "python3"
  },
  "language_info": {
   "codemirror_mode": {
    "name": "ipython",
    "version": 3
   },
   "file_extension": ".py",
   "mimetype": "text/x-python",
   "name": "python",
   "nbconvert_exporter": "python",
   "pygments_lexer": "ipython3",
   "version": "3.6.8"
  }
 },
 "nbformat": 4,
 "nbformat_minor": 2
}
