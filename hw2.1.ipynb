{
 "cells": [
  {
   "cell_type": "code",
   "execution_count": 10,
   "metadata": {},
   "outputs": [],
   "source": [
    "import numpy as np"
   ]
  },
  {
   "cell_type": "markdown",
   "metadata": {},
   "source": [
    "##### TODO: сделать алгоритм ...чего-то. Уточнить в лекции"
   ]
  },
  {
   "cell_type": "code",
   "execution_count": 11,
   "metadata": {},
   "outputs": [],
   "source": [
    "def can_dot(A, B):\n",
    "    return np.shape(A)[1] == np.shape(B)[0]"
   ]
  },
  {
   "cell_type": "code",
   "execution_count": 32,
   "metadata": {},
   "outputs": [],
   "source": [
    "def dot(A, B):\n",
    "    if not can_dot(A, B):\n",
    "        raise Exception(\"Cant multiply matrixes with shapes\", np.shape(A), np.shape(B))\n",
    "        \n",
    "    cols, count = np.shape(A)\n",
    "    rows = np.shape(B)[1]\n",
    "    C = np.zeros([cols, rows])\n",
    "    for i in range(cols):\n",
    "        for j in range(rows):\n",
    "            C[i][j] = sum([A[i, p]*B[p, j] for p in range(count)])\n",
    "    return C, (cols, rows)\n",
    "    "
   ]
  },
  {
   "cell_type": "code",
   "execution_count": 37,
   "metadata": {},
   "outputs": [
    {
     "name": "stdout",
     "output_type": "stream",
     "text": [
      "[[3. 3. 3. 3.]\n",
      " [3. 3. 3. 3.]]\n",
      "[[3. 3. 3. 3.]\n",
      " [3. 3. 3. 3.]] (2, 4)\n"
     ]
    }
   ],
   "source": [
    "A = np.ones([2,3])\n",
    "B = np.ones([3,4])\n",
    "\n",
    "print(np.dot(A, B))\n",
    "\n",
    "C, c_shape = dot(A, B)\n",
    "print(C, c_shape)"
   ]
  },
  {
   "cell_type": "code",
   "execution_count": null,
   "metadata": {},
   "outputs": [],
   "source": []
  }
 ],
 "metadata": {
  "kernelspec": {
   "display_name": "Python 3",
   "language": "python",
   "name": "python3"
  },
  "language_info": {
   "codemirror_mode": {
    "name": "ipython",
    "version": 3
   },
   "file_extension": ".py",
   "mimetype": "text/x-python",
   "name": "python",
   "nbconvert_exporter": "python",
   "pygments_lexer": "ipython3",
   "version": "3.6.8"
  }
 },
 "nbformat": 4,
 "nbformat_minor": 2
}
