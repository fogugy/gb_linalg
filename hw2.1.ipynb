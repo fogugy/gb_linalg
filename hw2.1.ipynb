{
 "cells": [
  {
   "cell_type": "code",
   "execution_count": 1,
   "metadata": {},
   "outputs": [],
   "source": [
    "import numpy as np"
   ]
  },
  {
   "cell_type": "markdown",
   "metadata": {},
   "source": [
    "#### Задание 1\n",
    "Установить, какие произведения матриц  AB  и  BA  определены, и найти размерности полученных матриц:"
   ]
  },
  {
   "cell_type": "code",
   "execution_count": 2,
   "metadata": {},
   "outputs": [],
   "source": [
    "def can_dot(A, B):\n",
    "    return (np.shape(A)[0], np.shape(B)[1]) if np.shape(A)[1] == np.shape(B)[0] else False"
   ]
  },
  {
   "cell_type": "code",
   "execution_count": 3,
   "metadata": {},
   "outputs": [
    {
     "name": "stdout",
     "output_type": "stream",
     "text": [
      "a False\n",
      "б (2, 3)\n",
      "в (8, 8)\n",
      "г (4, 4)\n"
     ]
    }
   ],
   "source": [
    "#a\n",
    "print('a', can_dot(np.ones([4, 2]), np.ones([4, 2])))\n",
    "#б\n",
    "print('б', can_dot(np.ones([2, 5]), np.ones([5, 3])))\n",
    "#в\n",
    "print('в', can_dot(np.ones([8, 3]), np.ones([3, 8])))\n",
    "#г\n",
    "print('г', can_dot(np.ones([4, 4]), np.ones([4, 4])))"
   ]
  },
  {
   "cell_type": "markdown",
   "metadata": {},
   "source": [
    "#### Задание 2\n",
    "Найти сумму и произведение матриц $A=\\begin{pmatrix}\n",
    "1 & -2\\\\ \n",
    "3 & 0\n",
    "\\end{pmatrix}$ и $B=\\begin{pmatrix}\n",
    "4 & -1\\\\ \n",
    "0 & 5\n",
    "\\end{pmatrix}.$"
   ]
  },
  {
   "cell_type": "code",
   "execution_count": 4,
   "metadata": {},
   "outputs": [],
   "source": [
    "def dot(A, B):\n",
    "    if not can_dot(A, B):\n",
    "        raise Exception(\"Cant multiply matrixes with shapes\", np.shape(A), np.shape(B))\n",
    "        \n",
    "    cols, count = np.shape(A)\n",
    "    rows = np.shape(B)[1]\n",
    "    C = np.zeros([cols, rows])\n",
    "    for i in range(cols):\n",
    "        for j in range(rows):\n",
    "            C[i][j] = sum([A[i][p]*B[p][j] for p in range(count)])\n",
    "    return C, (cols, rows)"
   ]
  },
  {
   "cell_type": "code",
   "execution_count": 5,
   "metadata": {},
   "outputs": [],
   "source": [
    "def can_sum(A, B):\n",
    "    return np.shape(A) == np.shape(B)"
   ]
  },
  {
   "cell_type": "code",
   "execution_count": 6,
   "metadata": {},
   "outputs": [],
   "source": [
    "def m_sum(A, B):\n",
    "    if not can_sum(A, B):\n",
    "        raise Exception(\"Cant summirize matrixes with different shapes\", np.shape(A), np.shape(B))\n",
    "        \n",
    "    (rows, cols) = np.shape(A)\n",
    "    C = np.zeros([rows, cols])\n",
    "    for row in range(rows):\n",
    "        for col in range(cols):\n",
    "            C[row][col] = A[row][col] + B[row][col]\n",
    "    return C, (cols, rows)"
   ]
  },
  {
   "cell_type": "code",
   "execution_count": 7,
   "metadata": {},
   "outputs": [
    {
     "name": "stdout",
     "output_type": "stream",
     "text": [
      "SUM:\n",
      "[[ 5. -3.]\n",
      " [ 0.  8.]] (2, 2)\n",
      "[[ 5 -3]\n",
      " [ 0  8]]\n",
      "DOT:\n",
      "[[  4. -11.]\n",
      " [  0.  15.]] (2, 2)\n",
      "[[  4 -11]\n",
      " [  0  15]]\n"
     ]
    }
   ],
   "source": [
    "A = [[1, -2], [0, 3]]\n",
    "B = [[4, -1], [0, 5]]\n",
    "\n",
    "S, s_shape = m_sum(A, B)\n",
    "M, m_shape = dot(A, B)\n",
    "\n",
    "print('SUM:')\n",
    "print(S, s_shape)\n",
    "print(np.add(A, B))\n",
    "print('DOT:')\n",
    "print(M, m_shape)\n",
    "print(np.dot(A, B))"
   ]
  },
  {
   "cell_type": "markdown",
   "metadata": {},
   "source": [
    "#### Задание 3:\n",
    "Вычислить линейную комбинацию $3A-2B+4C$ для матриц $A=\\begin{pmatrix}\n",
    "1 & 7\\\\ \n",
    "3 & -6\n",
    "\\end{pmatrix}$, $B=\\begin{pmatrix}\n",
    "0 & 5\\\\ \n",
    "2 & -1\n",
    "\\end{pmatrix}$, $C=\\begin{pmatrix}\n",
    "2 & -4\\\\ \n",
    "1 & 1\n",
    "\\end{pmatrix}.$"
   ]
  },
  {
   "cell_type": "code",
   "execution_count": 8,
   "metadata": {},
   "outputs": [],
   "source": [
    "def dot_num(A, num):\n",
    "    (rows, cols) = np.shape(A)\n",
    "    return [[A[row][col]*num for col in range(cols)] for row in range(rows)]"
   ]
  },
  {
   "cell_type": "code",
   "execution_count": 9,
   "metadata": {},
   "outputs": [
    {
     "name": "stdout",
     "output_type": "stream",
     "text": [
      "[[ 11.  -5.]\n",
      " [  9. -12.]]\n",
      "[[ 11  -5]\n",
      " [  9 -12]]\n"
     ]
    }
   ],
   "source": [
    "A = [[1, 7], [3, -6]]\n",
    "B = [[0, 5], [2, -1]]\n",
    "C = [[2, -4], [1, 1]]\n",
    "\n",
    "S = m_sum(m_sum(dot_num(A, 3), dot_num(B, -2))[0], dot_num(C, 4))[0]\n",
    "print(S)\n",
    "print(np.array(A)*3 - np.array(B)*2 + np.array(C)*4)"
   ]
  },
  {
   "cell_type": "markdown",
   "metadata": {},
   "source": [
    "#### Задание 4:\n",
    "Дана матрица $A=\\begin{pmatrix}\n",
    "4 & 1\\\\ \n",
    "5 & -2\\\\ \n",
    "2 & 3\n",
    "\\end{pmatrix}$.\n",
    "Вычислить $AA^{T}$ и $A^{T}A$."
   ]
  },
  {
   "cell_type": "code",
   "execution_count": 10,
   "metadata": {},
   "outputs": [],
   "source": [
    "def transpose(A):\n",
    "    (rows, cols) = np.shape(A)\n",
    "    return [[A[row][col] for row in range(rows)] for col in range(cols)]"
   ]
  },
  {
   "cell_type": "code",
   "execution_count": 11,
   "metadata": {},
   "outputs": [],
   "source": [
    "A = [[4, 1], [5, -2], [2, 3]]"
   ]
  },
  {
   "cell_type": "code",
   "execution_count": 12,
   "metadata": {},
   "outputs": [
    {
     "name": "stdout",
     "output_type": "stream",
     "text": [
      "A * A.T:\n",
      "[[17. 18. 11.]\n",
      " [18. 29.  4.]\n",
      " [11.  4. 13.]]\n",
      "[[17 18 11]\n",
      " [18 29  4]\n",
      " [11  4 13]]\n",
      "A.T * A:\n",
      "[[45.  0.]\n",
      " [ 0. 14.]]\n",
      "[[45  0]\n",
      " [ 0 14]]\n"
     ]
    }
   ],
   "source": [
    "A_AT = dot(A, transpose(A))[0]\n",
    "AT_A = dot(transpose(A), A)[0]\n",
    "np_A = np.array(A)\n",
    "\n",
    "print('A * A.T:')\n",
    "print(A_AT)\n",
    "print(np_A.dot(np_A.T))\n",
    "print('A.T * A:')\n",
    "print(AT_A)\n",
    "print(np_A.T.dot(np_A))"
   ]
  },
  {
   "cell_type": "markdown",
   "metadata": {},
   "source": [
    "#### Задание 5:\n",
    "Написать на Python функцию для перемножения двух произвольных матриц, не используя NumPy."
   ]
  },
  {
   "cell_type": "code",
   "execution_count": 13,
   "metadata": {},
   "outputs": [],
   "source": [
    "def shape(A):\n",
    "    return len(A), len(A[0])\n",
    "\n",
    "def can_dot_npfree(A, B):\n",
    "    return shape(A)[1] == shape(B)[0]"
   ]
  },
  {
   "cell_type": "code",
   "execution_count": 14,
   "metadata": {},
   "outputs": [],
   "source": [
    "def dot_npfree(A, B):\n",
    "    if not can_dot_npfree(A, B):\n",
    "        raise Exception(\"Cant multiply matrixes with shapes\", shape(A), shape(B))\n",
    "        \n",
    "    cols, count = shape(A)\n",
    "    rows = shape(B)[1]\n",
    "    C = [[0 for col in range(cols)] for row in range(rows)]\n",
    "    for i in range(cols):\n",
    "        for j in range(rows):\n",
    "            C[i][j] = sum([A[i][p]*B[p][j] for p in range(count)])\n",
    "    return C, (cols, rows)    "
   ]
  },
  {
   "cell_type": "code",
   "execution_count": 15,
   "metadata": {},
   "outputs": [
    {
     "name": "stdout",
     "output_type": "stream",
     "text": [
      "[[  4 -11]\n",
      " [  0  15]]\n",
      "проверка:\n",
      "[[  4 -11]\n",
      " [  0  15]]\n"
     ]
    }
   ],
   "source": [
    "A = [[1, -2], [0, 3]]\n",
    "B = [[4, -1], [0, 5]]\n",
    "\n",
    "M, m_shape = dot_npfree(A, B)\n",
    "print(np.array(M))\n",
    "print('проверка:')\n",
    "print(np.dot(A,B))"
   ]
  },
  {
   "cell_type": "code",
   "execution_count": null,
   "metadata": {},
   "outputs": [],
   "source": []
  }
 ],
 "metadata": {
  "kernelspec": {
   "display_name": "Python 3",
   "language": "python",
   "name": "python3"
  },
  "language_info": {
   "codemirror_mode": {
    "name": "ipython",
    "version": 3
   },
   "file_extension": ".py",
   "mimetype": "text/x-python",
   "name": "python",
   "nbconvert_exporter": "python",
   "pygments_lexer": "ipython3",
   "version": "3.6.8"
  }
 },
 "nbformat": 4,
 "nbformat_minor": 2
}
